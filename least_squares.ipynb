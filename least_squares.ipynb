{
 "cells": [
  {
   "cell_type": "markdown",
   "metadata": {},
   "source": [
    "# Experimenting with least squares and its variants"
   ]
  },
  {
   "cell_type": "code",
   "execution_count": 1,
   "metadata": {},
   "outputs": [],
   "source": [
    "%matplotlib inline\n",
    "\n",
    "from sklearn import datasets\n",
    "from scipy.optimize import fmin_bfgs\n",
    "from sklearn import linear_model\n",
    "import numpy as np\n",
    "from numpy.linalg import norm\n",
    "from numpy.linalg import inv\n",
    "from sklearn.linear_model import Ridge\n",
    "import math"
   ]
  },
  {
   "cell_type": "markdown",
   "metadata": {},
   "source": [
    "## Data preparation"
   ]
  },
  {
   "cell_type": "code",
   "execution_count": 2,
   "metadata": {},
   "outputs": [],
   "source": [
    "boston = datasets.load_boston()\n",
    "data = np.array(boston.data)"
   ]
  },
  {
   "cell_type": "markdown",
   "metadata": {},
   "source": [
    "The boston dataset is one of the standard regression problems used to experiment with learning algorithms. Below you can find the dataset description"
   ]
  },
  {
   "cell_type": "code",
   "execution_count": 3,
   "metadata": {},
   "outputs": [
    {
     "name": "stdout",
     "output_type": "stream",
     "text": [
      ".. _boston_dataset:\n",
      "\n",
      "Boston house prices dataset\n",
      "---------------------------\n",
      "\n",
      "**Data Set Characteristics:**  \n",
      "\n",
      "    :Number of Instances: 506 \n",
      "\n",
      "    :Number of Attributes: 13 numeric/categorical predictive. Median Value (attribute 14) is usually the target.\n",
      "\n",
      "    :Attribute Information (in order):\n",
      "        - CRIM     per capita crime rate by town\n",
      "        - ZN       proportion of residential land zoned for lots over 25,000 sq.ft.\n",
      "        - INDUS    proportion of non-retail business acres per town\n",
      "        - CHAS     Charles River dummy variable (= 1 if tract bounds river; 0 otherwise)\n",
      "        - NOX      nitric oxides concentration (parts per 10 million)\n",
      "        - RM       average number of rooms per dwelling\n",
      "        - AGE      proportion of owner-occupied units built prior to 1940\n",
      "        - DIS      weighted distances to five Boston employment centres\n",
      "        - RAD      index of accessibility to radial highways\n",
      "        - TAX      full-value property-tax rate per $10,000\n",
      "        - PTRATIO  pupil-teacher ratio by town\n",
      "        - B        1000(Bk - 0.63)^2 where Bk is the proportion of blacks by town\n",
      "        - LSTAT    % lower status of the population\n",
      "        - MEDV     Median value of owner-occupied homes in $1000's\n",
      "\n",
      "    :Missing Attribute Values: None\n",
      "\n",
      "    :Creator: Harrison, D. and Rubinfeld, D.L.\n",
      "\n",
      "This is a copy of UCI ML housing dataset.\n",
      "https://archive.ics.uci.edu/ml/machine-learning-databases/housing/\n",
      "\n",
      "\n",
      "This dataset was taken from the StatLib library which is maintained at Carnegie Mellon University.\n",
      "\n",
      "The Boston house-price data of Harrison, D. and Rubinfeld, D.L. 'Hedonic\n",
      "prices and the demand for clean air', J. Environ. Economics & Management,\n",
      "vol.5, 81-102, 1978.   Used in Belsley, Kuh & Welsch, 'Regression diagnostics\n",
      "...', Wiley, 1980.   N.B. Various transformations are used in the table on\n",
      "pages 244-261 of the latter.\n",
      "\n",
      "The Boston house-price data has been used in many machine learning papers that address regression\n",
      "problems.   \n",
      "     \n",
      ".. topic:: References\n",
      "\n",
      "   - Belsley, Kuh & Welsch, 'Regression diagnostics: Identifying Influential Data and Sources of Collinearity', Wiley, 1980. 244-261.\n",
      "   - Quinlan,R. (1993). Combining Instance-Based and Model-Based Learning. In Proceedings on the Tenth International Conference of Machine Learning, 236-243, University of Massachusetts, Amherst. Morgan Kaufmann.\n",
      "\n"
     ]
    }
   ],
   "source": [
    "print(boston.DESCR)"
   ]
  },
  {
   "cell_type": "markdown",
   "metadata": {},
   "source": [
    "First step to apply the formulae we learnt during the lectures is to rewrite the dataset in homogeneous coordinates (i.e., we append a column of 1 to the matrix containing the examples):"
   ]
  },
  {
   "cell_type": "code",
   "execution_count": 4,
   "metadata": {},
   "outputs": [],
   "source": [
    "t = np.ones(len(data)).reshape(len(data),1)\n",
    "data = np.append(data, t, 1)\n",
    "target = np.array(boston.target)"
   ]
  },
  {
   "cell_type": "markdown",
   "metadata": {},
   "source": [
    "We now divide the data into a training set $X$ and a test set $X_\\textrm{test}$."
   ]
  },
  {
   "cell_type": "code",
   "execution_count": 5,
   "metadata": {},
   "outputs": [],
   "source": [
    "X,y = data[0:400,:], target[0:400]\n",
    "X_test, y_test = data[400:,:], target[400:]"
   ]
  },
  {
   "cell_type": "markdown",
   "metadata": {},
   "source": [
    "# Exercise"
   ]
  },
  {
   "cell_type": "markdown",
   "metadata": {},
   "source": [
    "1. Calculate the least square solution (to the regression problem outlined above) and evaluate its performances on the training set and on the test set.\n",
    "1. Calculate the ridge regression solution (set lambda to 0.01) and evaluate its performances on the training set and on test set.\n",
    "1. Calculate the lasso regression solution and evaluate its performances on the training set and on the test set."
   ]
  },
  {
   "cell_type": "markdown",
   "metadata": {},
   "source": [
    "## Notes"
   ]
  },
  {
   "cell_type": "markdown",
   "metadata": {},
   "source": [
    "- Here it follows a list of functions you may want to use (the required packages are already imported at the beginning of this notebook) along with a very brief explanation of their purpose (`help(nomefun)` will provide you more information about function `nomefun`):\n",
    "    - `transpose`: matrix transposition (e.g., `transpose(X)`)\n",
    "    - `dot`: matrix multiplication (e.g., `X.dot(X2)`) \n",
    "    - `inv`: matrix inversion (e.g., `inv(X)`)\n",
    "- to solve the lasso problem you will need to perform a numerical minimization of the associated loss function (as you know, a closed form solution does not exist). There are many numerical optimization algorithms available in the scipy package. My suggestion is to use `fmin_bfgs`. Here it follows an example of how to use it:\n",
    "    ```python\n",
    "        def f(w):\n",
    "            return w[0]**2 + w[1]**2 + w[0] + w[1]\n",
    "        \n",
    "        w = fmin_bfgs(f, [0,0])\n",
    "    ```\n",
    "    note that the function may (and should) reference your data variables (i.e., $X$ and $y$).\n",
    "- to evaluate the performances of your solutions use the $S$ statistic:\n",
    "    $$\n",
    "        S =  \\sqrt{ \\frac{1}{n} \\sum_{i=1}^n (y_i' - y_i)^2 }\n",
    "    $$\n",
    "    where $y'_i$ is your model prediction for the i-th example, and $n$ is the number of examples."
   ]
  },
  {
   "cell_type": "code",
   "execution_count": 6,
   "metadata": {},
   "outputs": [
    {
     "name": "stdout",
     "output_type": "stream",
     "text": [
      "Pesi least square: [-1.91246374e-01  4.42289967e-02  5.52207977e-02  1.71631351e+00\n",
      " -1.49957220e+01  4.88773025e+00  2.60921031e-03 -1.29480799e+00\n",
      "  4.84787214e-01 -1.54006673e-02 -8.08795026e-01 -1.29230427e-03\n",
      " -5.17953791e-01  2.86725996e+01]\n"
     ]
    }
   ],
   "source": [
    "def least_square():\n",
    "    w = inv(np.transpose(X).dot(X)).dot(np.transpose(X).dot(y))\n",
    "    return w\n",
    "w = least_square()\n",
    "print (\"Pesi least square: %s\" %w)"
   ]
  },
  {
   "cell_type": "code",
   "execution_count": 7,
   "metadata": {},
   "outputs": [
    {
     "name": "stdout",
     "output_type": "stream",
     "text": [
      "Statistica su dati di training 4.722840838326382\n",
      "Statistica su dati di test 6.155792280419\n"
     ]
    }
   ],
   "source": [
    "Y = np.dot(X,w)\n",
    "print(\"Statistica su dati di training\",np.sqrt(np.sum((Y-y)**2)/len(Y)))\n",
    "Y_test = np.dot(X_test,w)\n",
    "print(\"Statistica su dati di test\",np.sqrt(np.sum((Y_test-y_test)**2)/len(Y_test)))"
   ]
  },
  {
   "cell_type": "code",
   "execution_count": 8,
   "metadata": {},
   "outputs": [
    {
     "name": "stdout",
     "output_type": "stream",
     "text": [
      "Pesi Ridge [-1.91440894e-01  4.42725237e-02  5.43610777e-02  1.71562849e+00\n",
      " -1.46631854e+01  4.91104161e+00  2.40041390e-03 -1.28746240e+00\n",
      "  4.82736224e-01 -1.53750112e-02 -8.01618031e-01 -1.05056023e-03\n",
      " -5.16996650e-01  2.81110919e+01] \n",
      "\n",
      "Statistica su dati di training 4.722895265098316\n",
      "Statistica su dati di test ridge 6.141787930908785\n"
     ]
    }
   ],
   "source": [
    "def ridge():\n",
    "    lambda_ = 0.01\n",
    "    temp = np.transpose(X).dot(X)\n",
    "    I_x_lambda = lambda_ * np.identity(len(temp))\n",
    "    temp2 = inv(temp + I_x_lambda)\n",
    "    temp3 = np.dot(temp2,np.transpose(X))\n",
    "    w = np.dot(temp3, y)\n",
    "    return w\n",
    "\n",
    "w_ridge = ridge()\n",
    "print(\"Pesi Ridge\",w_ridge,\"\\n\")\n",
    "\n",
    "Y = np.dot(X,w_ridge)\n",
    "print(\"Statistica su dati di training\",np.sqrt(np.sum((Y-y)**2)/len(Y)))\n",
    "\n",
    "Y_test = np.dot(X_test,w_ridge)\n",
    "print(\"Statistica su dati di test ridge\",np.sqrt(np.sum((Y_test-y_test)**2)/len(Y_test)))"
   ]
  },
  {
   "cell_type": "code",
   "execution_count": 9,
   "metadata": {
    "scrolled": true
   },
   "outputs": [
    {
     "name": "stdout",
     "output_type": "stream",
     "text": [
      "Warning: Desired error not necessarily achieved due to precision loss.\n",
      "         Current function value: 8922.627021\n",
      "         Iterations: 19\n",
      "         Function evaluations: 577\n",
      "         Gradient evaluations: 36\n",
      "Pesi lasso:  [-1.91248106e-01  4.42302944e-02  5.51973360e-02  1.71613896e+00\n",
      " -1.49876514e+01  4.88814271e+00  2.60412169e-03 -1.29464530e+00\n",
      "  4.84752121e-01 -1.54009081e-02 -8.08642297e-01 -1.28808181e-03\n",
      " -5.17941187e-01  2.86613795e+01] \n",
      "\n",
      "Statistica su dati di training 4.722840863514988\n",
      "Statistica su dati di test lasso 6.155556501197483\n"
     ]
    }
   ],
   "source": [
    "def f_lasso(w):\n",
    "    lambda_ = 0.01\n",
    "    w = (y - X.dot(w)).T.dot(y - X.dot(w)) + (lambda_ * np.linalg.norm(w,ord=1))\n",
    "    return w\n",
    "\n",
    "w_lasso = fmin_bfgs(f_lasso,np.zeros(X.shape[1]))\n",
    "print(\"Pesi lasso: \",w_lasso,\"\\n\")\n",
    "\n",
    "Y = np.dot(X,w_lasso)\n",
    "print(\"Statistica su dati di training\",np.sqrt(np.sum((Y-y)**2)/len(Y)))\n",
    "Y_test = np.dot(X_test,w_lasso)\n",
    "print(\"Statistica su dati di test lasso\",np.sqrt(np.sum((Y_test-y_test)**2)/len(Y_test)))"
   ]
  },
  {
   "cell_type": "code",
   "execution_count": null,
   "metadata": {},
   "outputs": [],
   "source": []
  }
 ],
 "metadata": {
  "anaconda-cloud": {},
  "kernelspec": {
   "display_name": "Python 3",
   "language": "python",
   "name": "python3"
  },
  "language_info": {
   "codemirror_mode": {
    "name": "ipython",
    "version": 3
   },
   "file_extension": ".py",
   "mimetype": "text/x-python",
   "name": "python",
   "nbconvert_exporter": "python",
   "pygments_lexer": "ipython3",
   "version": "3.7.4"
  }
 },
 "nbformat": 4,
 "nbformat_minor": 1
}
